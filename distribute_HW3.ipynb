{
  "nbformat": 4,
  "nbformat_minor": 0,
  "metadata": {
    "kernelspec": {
      "display_name": "Python 3",
      "language": "python",
      "name": "python3"
    },
    "language_info": {
      "codemirror_mode": {
        "name": "ipython",
        "version": 3
      },
      "file_extension": ".py",
      "mimetype": "text/x-python",
      "name": "python",
      "nbconvert_exporter": "python",
      "pygments_lexer": "ipython3",
      "version": "3.8.5"
    },
    "colab": {
      "name": "distribute_HW3.ipynb",
      "provenance": [],
      "include_colab_link": true
    }
  },
  "cells": [
    {
      "cell_type": "markdown",
      "metadata": {
        "id": "view-in-github",
        "colab_type": "text"
      },
      "source": [
        "<a href=\"https://colab.research.google.com/github/pramendra/hem_pram_Homework3/blob/master/distribute_HW3.ipynb\" target=\"_parent\"><img src=\"https://colab.research.google.com/assets/colab-badge.svg\" alt=\"Open In Colab\"/></a>"
      ]
    },
    {
      "cell_type": "markdown",
      "metadata": {
        "id": "gINDJ8e1DsMy"
      },
      "source": [
        "<img src=\"https://drive.google.com/uc?export=view&id=1nMaBQ7g88duMECw_B4mH8ruxwnIwVzGP\" width=300/> \n",
        "\n",
        "# ML-1: Standardization, Classification & Model evaluation\n",
        "## Homework 3: Are you mad enough to sell more clothes?\n",
        "\n",
        "**ML-1 Cohort 1** <br>\n",
        "**Instructor: Dr. Rahul Dave**<br>\n",
        "**Max Score: 100** <br>"
      ]
    },
    {
      "cell_type": "markdown",
      "metadata": {
        "id": "lkL7-f26DsNA"
      },
      "source": [
        "### Name of people who have worked on this homework:"
      ]
    },
    {
      "cell_type": "markdown",
      "metadata": {
        "id": "7Kb_jo20DsNB"
      },
      "source": [
        "## Table of Contents \n",
        "* [HW-3: Are you mad enough to sell more clothes?](#HW-3:-Are-you-mad-enough-to-sell-more-clothes?)\n",
        "  * [Instructions](##Instructions)\n",
        "  * [Overview](##Overview)\n",
        "  * [Q1: Test & Training Sets & Standardization](##Q1:-Test-&-Training-Sets-&-Standardization)\n",
        "    * [1.1 Train-Test Split](###1.1-Train-Test-Split)\n",
        "    * [1.2 Standardizing data](##1.2-Standardizing-data)\n",
        "  * [Q2: Classification with Lasso (L1) regularization](##Q2:-Classification-with-Lasso-(L1)-regularization)\n",
        "    * [2.1 Baseline Classifiers](###2.1-Baseline-Classifiers)\n",
        "    * [2.2 Classification Model - Logistic with Lasso (L1)](###2.2-Classification-Model-Logistic-with-Lasso-(L1))\n",
        "    * [2.3 Prediction](###2.3-Prediction)\n",
        "  * [Q3: Confusion Matrix, Costs, Averge Profit & Thresholds](##Q3:-Confusion-Matrix,-Costs,-Averge-Profit-&-Thresholds)\n",
        "    * [3.1 Confusion Matrix](####3.1-Confusion-Matrix)\n",
        "    * [3.2 Cost and Utility Matrix](####3.2-Cost-and-Utility-Matrix)\n",
        "    * [3.3 Average Profit Per Person](####3.3-Average-Profit-Per-Person)\n",
        "    * [3.4 Thresholds](####3.4-Thresholds)\n",
        "  * [Q4: ROC Curves & Profit Curves](##Q4:-ROC-Curves-&-Profit-Curves)\n",
        "    * [4.1 ROC Curves](####4.1-ROC-Curves)\n",
        "    * [4.2 Profit Curves](####4.2-Profit-Curves)"
      ]
    },
    {
      "cell_type": "markdown",
      "metadata": {
        "id": "_KGWuTgqDsNB"
      },
      "source": [
        "## Instructions"
      ]
    },
    {
      "cell_type": "markdown",
      "metadata": {
        "id": "RYeF_OhxDsNC"
      },
      "source": [
        "- This homework should be submitted in pairs.\n",
        "\n",
        "- Ensure you and your partner together have submitted the homework only once. Multiple submissions of the same work will be penalised and will cost you 2 points.\n",
        "\n",
        "- Please restart the kernel and run the entire notebook again before you submit.\n",
        "\n",
        "- Running cells out of order is a common pitfall in Notebooks. To make sure your code works restart the kernel and run the whole notebook again before you submit. \n",
        "\n",
        "- To work on the homework, you will first need to fork the repository into your GitHub account and clone it to work on it on your local computer. To submit your homework, push your homework into the same GitHub and upload the link on edStem.\n",
        "\n",
        "- Submit the homework well before the given deadline. Submissions after the deadline will not be graded.\n",
        "\n",
        "- We have tried to include all the libraries you may need to do the assignment in the imports statement at the top of this notebook. We strongly suggest that you use those and not others as we may not be familiar with them.\n",
        "\n",
        "- Comment your code well. This would help the graders in case there is any issue with the notebook while running. It is important to remember that the graders will not troubleshoot your code. \n",
        "\n",
        "- Please use .head() when viewing data. Do not submit a notebook that is **excessively long**. \n",
        "\n",
        "- In questions that require code to answer, such as \"calculate the $R^2$\", do not just output the value from a cell. Write a `print()` function that includes a reference to the calculated value, **not hardcoded**. For example: \n",
        "```\n",
        "print(f'The R^2 is {R:.4f}')\n",
        "```\n",
        "- Your plots should include clear labels for the $x$ and $y$ axes as well as a descriptive title (\"MSE plot\" is not a descriptive title; \"95 % confidence interval of coefficients of polynomial degree 5\" is).\n",
        "\n",
        "- **Ensure you make appropriate plots for all the questions it is applicable to, regardless of it being explicitly asked for.**\n",
        "\n",
        "<hr style=\"height:2pt\">"
      ]
    },
    {
      "cell_type": "markdown",
      "metadata": {
        "id": "-JqpG0o3DsNC"
      },
      "source": [
        "## Overview\n",
        "\n",
        "The data set is from a fairly high end clothing chain store in the North East. You should be familiar with this data from Exercise 3 where you learnt about feature engineering.\n",
        "\n",
        "You are a data analyst for this store. Your job is to write a report to the pointy-haired boss in which you show how you can increase the store's profit by targeting whom to send a catalog in the mail. Yes, you are in direct marketing. You are a quant amongst the \"mad men\". \n",
        "\n",
        "You need to explore and layout in simple terms, what the business needs to spend to increase its profit. In other words, you need a budget, and its your job to figure out how much as well.\n",
        "\n",
        "We'll guide you through the process. There is much more you can explore, of-course, but this homework will walk you through an entire real world classification and analysis process with a finite amount of work and computer runtime.\n",
        "\n",
        "You will\n",
        "\n",
        "1. learn how to standardize the data\n",
        "2. write a classifier on this data, including cross validation\n",
        "3. learn how to compare this classifier to baseline classifiers that you better beat using a profit metric rather than an accuracy metric\n",
        "4. understand and use prediction thresholds\n",
        "5. understand the use a ROC curve\n",
        "6. learn to use a profit curve to pick a model, thus directly reflecting the metric of importance\n",
        "\n",
        "You have been provided with the cleaned data after numerous feature transformations.\n",
        "\n",
        "The idea for this homework, and the attendant data set is taken from the book \"Data Mining Methods and Models\" by [Larose](http://www.dataminingconsultant.com/DMMM.htm)."
      ]
    },
    {
      "cell_type": "code",
      "metadata": {
        "id": "TbyZ7k9NKBnh",
        "outputId": "1a207468-a513-4191-8cd7-a6cf073e2687",
        "colab": {
          "base_uri": "https://localhost:8080/"
        }
      },
      "source": [
        "!git init; git clone https://github.com/pramendra/hem_pram_Homework3.git"
      ],
      "execution_count": 2,
      "outputs": [
        {
          "output_type": "stream",
          "text": [
            "Initialized empty Git repository in /content/.git/\n",
            "Cloning into 'hem_pram_Homework3'...\n",
            "remote: Enumerating objects: 27, done.\u001b[K\n",
            "remote: Counting objects: 100% (27/27), done.\u001b[K\n",
            "remote: Compressing objects: 100% (18/18), done.\u001b[K\n",
            "remote: Total 27 (delta 8), reused 27 (delta 8), pack-reused 0\u001b[K\n",
            "Unpacking objects: 100% (27/27), done.\n"
          ],
          "name": "stdout"
        }
      ]
    },
    {
      "cell_type": "markdown",
      "metadata": {
        "id": "XrOfP9-7DsND"
      },
      "source": [
        "---"
      ]
    },
    {
      "cell_type": "code",
      "metadata": {
        "id": "rrxZpFmHDsND"
      },
      "source": [
        "# Run this cell to import the required libraries\n",
        "\n",
        "%matplotlib inline\n",
        "import numpy as np\n",
        "import scipy as sp\n",
        "from scipy.stats.stats import pearsonr\n",
        "import matplotlib as mpl\n",
        "import matplotlib.cm as cm\n",
        "import matplotlib.pyplot as plt\n",
        "from matplotlib.colors import LogNorm\n",
        "import pandas as pd\n",
        "from sklearn.model_selection import train_test_split\n",
        "from sklearn.model_selection import GridSearchCV\n",
        "from sklearn.metrics import confusion_matrix\n",
        "from sklearn.preprocessing import StandardScaler\n",
        "from sklearn.linear_model import LogisticRegression\n",
        "from sklearn.metrics import roc_curve, auc\n",
        "\n",
        "import seaborn as sns\n",
        "from sklearn.metrics import accuracy_score\n",
        "\n",
        "# sns.set_style(\"whitegrid\")\n",
        "# sns.set_context(\"poster\")\n",
        "\n",
        "sns.set_style()\n",
        "sns.set_context(\"talk\")"
      ],
      "execution_count": 34,
      "outputs": []
    },
    {
      "cell_type": "markdown",
      "metadata": {
        "id": "mNd_-a-kDsNE"
      },
      "source": [
        "## Q1: Test & Training Sets & Standardization (15 points)\n",
        "\n",
        "We standardize test and training sets separately. Specifically, we wish to standardize the non-indicator columns on both the test and training sets, by subtracting out the mean of the training set from the value, and dividing by the standard deviation of the training set. This helps us put all the continuous variables on the same scale."
      ]
    },
    {
      "cell_type": "markdown",
      "metadata": {
        "id": "Fp6QUZEoDsNE"
      },
      "source": [
        "#### 1.1 Train-Test Split (5 points)\n",
        "\n",
        "**Split the data(`dftouse` dataframe) into train and test in 70:30 ratio. Print out the shape of your train and test features and labels. ('X_train','X_test','y_train','y_test')**"
      ]
    },
    {
      "cell_type": "code",
      "metadata": {
        "id": "9bDtgzvUDsNE"
      },
      "source": [
        "# loading data from csv file\n",
        "df = pd.read_csv('./hem_pram_Homework3/data/Cleaned_clothing_store_data.csv')\n",
        "dftouse = df.copy()"
      ],
      "execution_count": 4,
      "outputs": []
    },
    {
      "cell_type": "code",
      "metadata": {
        "id": "PlVhck0fKo9E",
        "outputId": "e33eb895-166e-44f9-ef18-2966fd5bf379",
        "colab": {
          "base_uri": "https://localhost:8080/",
          "height": 224
        }
      },
      "source": [
        "dftouse.head()"
      ],
      "execution_count": 7,
      "outputs": [
        {
          "output_type": "execute_result",
          "data": {
            "text/html": [
              "<div>\n",
              "<style scoped>\n",
              "    .dataframe tbody tr th:only-of-type {\n",
              "        vertical-align: middle;\n",
              "    }\n",
              "\n",
              "    .dataframe tbody tr th {\n",
              "        vertical-align: top;\n",
              "    }\n",
              "\n",
              "    .dataframe thead th {\n",
              "        text-align: right;\n",
              "    }\n",
              "</style>\n",
              "<table border=\"1\" class=\"dataframe\">\n",
              "  <thead>\n",
              "    <tr style=\"text-align: right;\">\n",
              "      <th></th>\n",
              "      <th>FRE</th>\n",
              "      <th>MON</th>\n",
              "      <th>i_CC_CARD</th>\n",
              "      <th>AVRG</th>\n",
              "      <th>PSWEATERS</th>\n",
              "      <th>PKNIT_TOPS</th>\n",
              "      <th>PKNIT_DRES</th>\n",
              "      <th>PBLOUSES</th>\n",
              "      <th>PJACKETS</th>\n",
              "      <th>PCAR_PNTS</th>\n",
              "      <th>PCAS_PNTS</th>\n",
              "      <th>PSHIRTS</th>\n",
              "      <th>PDRESSES</th>\n",
              "      <th>PSUITS</th>\n",
              "      <th>POUTERWEAR</th>\n",
              "      <th>PJEWELRY</th>\n",
              "      <th>PFASHION</th>\n",
              "      <th>PLEGWEAR</th>\n",
              "      <th>PCOLLSPND</th>\n",
              "      <th>AMSPEND</th>\n",
              "      <th>PSSPEND</th>\n",
              "      <th>CCSPEND</th>\n",
              "      <th>AXSPEND</th>\n",
              "      <th>TMONSPEND</th>\n",
              "      <th>OMONSPEND</th>\n",
              "      <th>SMONSPEND</th>\n",
              "      <th>PREVPD</th>\n",
              "      <th>GMP</th>\n",
              "      <th>PROMOS</th>\n",
              "      <th>DAYS</th>\n",
              "      <th>FREDAYS</th>\n",
              "      <th>MARKDOWN</th>\n",
              "      <th>CLASSES</th>\n",
              "      <th>COUPONS</th>\n",
              "      <th>STYLES</th>\n",
              "      <th>STORES</th>\n",
              "      <th>i_WEB</th>\n",
              "      <th>MAILED</th>\n",
              "      <th>RESPONDED</th>\n",
              "      <th>RESPONSERATE</th>\n",
              "      <th>HI</th>\n",
              "      <th>LTFREDAY</th>\n",
              "      <th>PERCRET</th>\n",
              "      <th>RESP</th>\n",
              "      <th>i_VALPHON</th>\n",
              "      <th>i_PREVPD</th>\n",
              "      <th>i_AMSPEND</th>\n",
              "      <th>i_PSSPEND</th>\n",
              "      <th>i_CCSPEND</th>\n",
              "      <th>i_AXSPEND</th>\n",
              "      <th>i_RESPONDED</th>\n",
              "      <th>i_PERCRET</th>\n",
              "      <th>i_PSWEATERS</th>\n",
              "      <th>i_PKNIT_TOPS</th>\n",
              "      <th>i_PKNIT_DRES</th>\n",
              "      <th>i_PBLOUSES</th>\n",
              "      <th>i_PJACKETS</th>\n",
              "      <th>i_PCAR_PNTS</th>\n",
              "      <th>i_PCAS_PNTS</th>\n",
              "      <th>i_PSHIRTS</th>\n",
              "      <th>i_PDRESSES</th>\n",
              "      <th>i_PSUITS</th>\n",
              "      <th>i_POUTERWEAR</th>\n",
              "      <th>i_PJEWELRY</th>\n",
              "      <th>i_PFASHION</th>\n",
              "      <th>i_PLEGWEAR</th>\n",
              "      <th>i_PCOLLSPND</th>\n",
              "      <th>i_RECENT</th>\n",
              "      <th>i_SAVER</th>\n",
              "    </tr>\n",
              "  </thead>\n",
              "  <tbody>\n",
              "    <tr>\n",
              "      <th>0</th>\n",
              "      <td>2</td>\n",
              "      <td>368.46</td>\n",
              "      <td>0</td>\n",
              "      <td>184.23</td>\n",
              "      <td>0.18</td>\n",
              "      <td>0.00</td>\n",
              "      <td>0.00</td>\n",
              "      <td>0.30</td>\n",
              "      <td>0.0</td>\n",
              "      <td>0.25</td>\n",
              "      <td>0.00</td>\n",
              "      <td>0.19</td>\n",
              "      <td>0.00</td>\n",
              "      <td>0.0</td>\n",
              "      <td>0.0</td>\n",
              "      <td>0.000000</td>\n",
              "      <td>0.02</td>\n",
              "      <td>0.03</td>\n",
              "      <td>0.29</td>\n",
              "      <td>0.0</td>\n",
              "      <td>0.0</td>\n",
              "      <td>368.46</td>\n",
              "      <td>0.0</td>\n",
              "      <td>0.00</td>\n",
              "      <td>0.00</td>\n",
              "      <td>0.00</td>\n",
              "      <td>0.00</td>\n",
              "      <td>0.60</td>\n",
              "      <td>17</td>\n",
              "      <td>666</td>\n",
              "      <td>333.00</td>\n",
              "      <td>0.08</td>\n",
              "      <td>9</td>\n",
              "      <td>1</td>\n",
              "      <td>11</td>\n",
              "      <td>1</td>\n",
              "      <td>0</td>\n",
              "      <td>5</td>\n",
              "      <td>0</td>\n",
              "      <td>0.00</td>\n",
              "      <td>31.81</td>\n",
              "      <td>111.00</td>\n",
              "      <td>0.00</td>\n",
              "      <td>0</td>\n",
              "      <td>0</td>\n",
              "      <td>0</td>\n",
              "      <td>0</td>\n",
              "      <td>0</td>\n",
              "      <td>1</td>\n",
              "      <td>0</td>\n",
              "      <td>0</td>\n",
              "      <td>0</td>\n",
              "      <td>1</td>\n",
              "      <td>0</td>\n",
              "      <td>0</td>\n",
              "      <td>1</td>\n",
              "      <td>0</td>\n",
              "      <td>1</td>\n",
              "      <td>0</td>\n",
              "      <td>1</td>\n",
              "      <td>0</td>\n",
              "      <td>0</td>\n",
              "      <td>0</td>\n",
              "      <td>0</td>\n",
              "      <td>1</td>\n",
              "      <td>1</td>\n",
              "      <td>1</td>\n",
              "      <td>0</td>\n",
              "      <td>1</td>\n",
              "    </tr>\n",
              "    <tr>\n",
              "      <th>1</th>\n",
              "      <td>4</td>\n",
              "      <td>258.00</td>\n",
              "      <td>1</td>\n",
              "      <td>64.50</td>\n",
              "      <td>0.26</td>\n",
              "      <td>0.16</td>\n",
              "      <td>0.00</td>\n",
              "      <td>0.00</td>\n",
              "      <td>0.0</td>\n",
              "      <td>0.18</td>\n",
              "      <td>0.14</td>\n",
              "      <td>0.00</td>\n",
              "      <td>0.18</td>\n",
              "      <td>0.0</td>\n",
              "      <td>0.0</td>\n",
              "      <td>0.000000</td>\n",
              "      <td>0.00</td>\n",
              "      <td>0.02</td>\n",
              "      <td>0.37</td>\n",
              "      <td>0.0</td>\n",
              "      <td>0.0</td>\n",
              "      <td>258.00</td>\n",
              "      <td>0.0</td>\n",
              "      <td>138.00</td>\n",
              "      <td>55.99</td>\n",
              "      <td>258.00</td>\n",
              "      <td>0.00</td>\n",
              "      <td>0.54</td>\n",
              "      <td>14</td>\n",
              "      <td>696</td>\n",
              "      <td>174.00</td>\n",
              "      <td>0.33</td>\n",
              "      <td>6</td>\n",
              "      <td>0</td>\n",
              "      <td>14</td>\n",
              "      <td>1</td>\n",
              "      <td>0</td>\n",
              "      <td>4</td>\n",
              "      <td>2</td>\n",
              "      <td>50.00</td>\n",
              "      <td>32.72</td>\n",
              "      <td>43.50</td>\n",
              "      <td>0.03</td>\n",
              "      <td>1</td>\n",
              "      <td>1</td>\n",
              "      <td>0</td>\n",
              "      <td>0</td>\n",
              "      <td>0</td>\n",
              "      <td>1</td>\n",
              "      <td>0</td>\n",
              "      <td>1</td>\n",
              "      <td>1</td>\n",
              "      <td>1</td>\n",
              "      <td>1</td>\n",
              "      <td>0</td>\n",
              "      <td>0</td>\n",
              "      <td>0</td>\n",
              "      <td>1</td>\n",
              "      <td>1</td>\n",
              "      <td>0</td>\n",
              "      <td>1</td>\n",
              "      <td>0</td>\n",
              "      <td>0</td>\n",
              "      <td>0</td>\n",
              "      <td>0</td>\n",
              "      <td>1</td>\n",
              "      <td>1</td>\n",
              "      <td>1</td>\n",
              "      <td>1</td>\n",
              "    </tr>\n",
              "    <tr>\n",
              "      <th>2</th>\n",
              "      <td>2</td>\n",
              "      <td>77.00</td>\n",
              "      <td>0</td>\n",
              "      <td>38.50</td>\n",
              "      <td>1.00</td>\n",
              "      <td>0.00</td>\n",
              "      <td>0.00</td>\n",
              "      <td>0.00</td>\n",
              "      <td>0.0</td>\n",
              "      <td>0.00</td>\n",
              "      <td>0.00</td>\n",
              "      <td>0.00</td>\n",
              "      <td>0.00</td>\n",
              "      <td>0.0</td>\n",
              "      <td>0.0</td>\n",
              "      <td>0.000000</td>\n",
              "      <td>0.00</td>\n",
              "      <td>0.00</td>\n",
              "      <td>0.00</td>\n",
              "      <td>0.0</td>\n",
              "      <td>0.0</td>\n",
              "      <td>77.00</td>\n",
              "      <td>0.0</td>\n",
              "      <td>0.00</td>\n",
              "      <td>0.00</td>\n",
              "      <td>0.00</td>\n",
              "      <td>39.00</td>\n",
              "      <td>0.62</td>\n",
              "      <td>10</td>\n",
              "      <td>343</td>\n",
              "      <td>171.50</td>\n",
              "      <td>0.11</td>\n",
              "      <td>1</td>\n",
              "      <td>0</td>\n",
              "      <td>2</td>\n",
              "      <td>1</td>\n",
              "      <td>0</td>\n",
              "      <td>4</td>\n",
              "      <td>0</td>\n",
              "      <td>0.00</td>\n",
              "      <td>100.00</td>\n",
              "      <td>68.60</td>\n",
              "      <td>0.00</td>\n",
              "      <td>0</td>\n",
              "      <td>0</td>\n",
              "      <td>1</td>\n",
              "      <td>0</td>\n",
              "      <td>0</td>\n",
              "      <td>1</td>\n",
              "      <td>0</td>\n",
              "      <td>0</td>\n",
              "      <td>0</td>\n",
              "      <td>1</td>\n",
              "      <td>0</td>\n",
              "      <td>0</td>\n",
              "      <td>0</td>\n",
              "      <td>0</td>\n",
              "      <td>0</td>\n",
              "      <td>0</td>\n",
              "      <td>0</td>\n",
              "      <td>0</td>\n",
              "      <td>0</td>\n",
              "      <td>0</td>\n",
              "      <td>0</td>\n",
              "      <td>0</td>\n",
              "      <td>0</td>\n",
              "      <td>0</td>\n",
              "      <td>0</td>\n",
              "      <td>1</td>\n",
              "    </tr>\n",
              "    <tr>\n",
              "      <th>3</th>\n",
              "      <td>8</td>\n",
              "      <td>846.06</td>\n",
              "      <td>1</td>\n",
              "      <td>105.75</td>\n",
              "      <td>0.38</td>\n",
              "      <td>0.00</td>\n",
              "      <td>0.05</td>\n",
              "      <td>0.06</td>\n",
              "      <td>0.2</td>\n",
              "      <td>0.17</td>\n",
              "      <td>0.00</td>\n",
              "      <td>0.05</td>\n",
              "      <td>0.00</td>\n",
              "      <td>0.0</td>\n",
              "      <td>0.0</td>\n",
              "      <td>0.005307</td>\n",
              "      <td>0.03</td>\n",
              "      <td>0.01</td>\n",
              "      <td>0.00</td>\n",
              "      <td>0.0</td>\n",
              "      <td>0.0</td>\n",
              "      <td>846.06</td>\n",
              "      <td>0.0</td>\n",
              "      <td>104.94</td>\n",
              "      <td>0.00</td>\n",
              "      <td>373.87</td>\n",
              "      <td>166.25</td>\n",
              "      <td>0.43</td>\n",
              "      <td>24</td>\n",
              "      <td>701</td>\n",
              "      <td>87.62</td>\n",
              "      <td>0.29</td>\n",
              "      <td>15</td>\n",
              "      <td>3</td>\n",
              "      <td>35</td>\n",
              "      <td>1</td>\n",
              "      <td>0</td>\n",
              "      <td>9</td>\n",
              "      <td>6</td>\n",
              "      <td>66.67</td>\n",
              "      <td>23.27</td>\n",
              "      <td>26.96</td>\n",
              "      <td>0.00</td>\n",
              "      <td>0</td>\n",
              "      <td>1</td>\n",
              "      <td>1</td>\n",
              "      <td>0</td>\n",
              "      <td>0</td>\n",
              "      <td>1</td>\n",
              "      <td>0</td>\n",
              "      <td>1</td>\n",
              "      <td>0</td>\n",
              "      <td>1</td>\n",
              "      <td>0</td>\n",
              "      <td>1</td>\n",
              "      <td>1</td>\n",
              "      <td>1</td>\n",
              "      <td>1</td>\n",
              "      <td>0</td>\n",
              "      <td>1</td>\n",
              "      <td>0</td>\n",
              "      <td>0</td>\n",
              "      <td>0</td>\n",
              "      <td>1</td>\n",
              "      <td>1</td>\n",
              "      <td>1</td>\n",
              "      <td>0</td>\n",
              "      <td>1</td>\n",
              "      <td>1</td>\n",
              "    </tr>\n",
              "    <tr>\n",
              "      <th>4</th>\n",
              "      <td>1</td>\n",
              "      <td>87.44</td>\n",
              "      <td>0</td>\n",
              "      <td>87.44</td>\n",
              "      <td>0.20</td>\n",
              "      <td>0.20</td>\n",
              "      <td>0.00</td>\n",
              "      <td>0.00</td>\n",
              "      <td>0.0</td>\n",
              "      <td>0.00</td>\n",
              "      <td>0.41</td>\n",
              "      <td>0.00</td>\n",
              "      <td>0.00</td>\n",
              "      <td>0.0</td>\n",
              "      <td>0.0</td>\n",
              "      <td>0.170000</td>\n",
              "      <td>0.00</td>\n",
              "      <td>0.00</td>\n",
              "      <td>0.00</td>\n",
              "      <td>0.0</td>\n",
              "      <td>0.0</td>\n",
              "      <td>87.44</td>\n",
              "      <td>0.0</td>\n",
              "      <td>87.44</td>\n",
              "      <td>0.00</td>\n",
              "      <td>87.44</td>\n",
              "      <td>0.00</td>\n",
              "      <td>0.22</td>\n",
              "      <td>0</td>\n",
              "      <td>49</td>\n",
              "      <td>49.00</td>\n",
              "      <td>0.42</td>\n",
              "      <td>4</td>\n",
              "      <td>0</td>\n",
              "      <td>8</td>\n",
              "      <td>1</td>\n",
              "      <td>0</td>\n",
              "      <td>0</td>\n",
              "      <td>0</td>\n",
              "      <td>0.00</td>\n",
              "      <td>28.52</td>\n",
              "      <td>24.50</td>\n",
              "      <td>0.00</td>\n",
              "      <td>0</td>\n",
              "      <td>1</td>\n",
              "      <td>0</td>\n",
              "      <td>0</td>\n",
              "      <td>0</td>\n",
              "      <td>1</td>\n",
              "      <td>0</td>\n",
              "      <td>0</td>\n",
              "      <td>0</td>\n",
              "      <td>1</td>\n",
              "      <td>1</td>\n",
              "      <td>0</td>\n",
              "      <td>0</td>\n",
              "      <td>0</td>\n",
              "      <td>0</td>\n",
              "      <td>1</td>\n",
              "      <td>0</td>\n",
              "      <td>0</td>\n",
              "      <td>0</td>\n",
              "      <td>0</td>\n",
              "      <td>1</td>\n",
              "      <td>0</td>\n",
              "      <td>0</td>\n",
              "      <td>0</td>\n",
              "      <td>1</td>\n",
              "      <td>1</td>\n",
              "    </tr>\n",
              "  </tbody>\n",
              "</table>\n",
              "</div>"
            ],
            "text/plain": [
              "   FRE     MON  i_CC_CARD    AVRG  ...  i_PLEGWEAR  i_PCOLLSPND  i_RECENT  i_SAVER\n",
              "0    2  368.46          0  184.23  ...           1            1         0        1\n",
              "1    4  258.00          1   64.50  ...           1            1         1        1\n",
              "2    2   77.00          0   38.50  ...           0            0         0        1\n",
              "3    8  846.06          1  105.75  ...           1            0         1        1\n",
              "4    1   87.44          0   87.44  ...           0            0         1        1\n",
              "\n",
              "[5 rows x 69 columns]"
            ]
          },
          "metadata": {
            "tags": []
          },
          "execution_count": 7
        }
      ]
    },
    {
      "cell_type": "code",
      "metadata": {
        "id": "NBUIMPvhDsNF",
        "outputId": "a45a34cd-5281-412a-f7db-db63768087e6",
        "colab": {
          "base_uri": "https://localhost:8080/"
        }
      },
      "source": [
        "# your code here\n",
        "X = dftouse.drop(\"RESP\", axis=1)\n",
        "y = dftouse[\"RESP\"]\n",
        "X_train, X_test, y_train, y_test = train_test_split(X, y, train_size=0.7, random_state = 70)\n",
        "\n",
        "print(X_train.shape, X_test.shape, y_train.shape, y_test.shape)"
      ],
      "execution_count": 19,
      "outputs": [
        {
          "output_type": "stream",
          "text": [
            "(15217, 68) (6523, 68) (15217,) (6523,)\n"
          ],
          "name": "stdout"
        }
      ]
    },
    {
      "cell_type": "markdown",
      "metadata": {
        "id": "_f5I68TiDsNF"
      },
      "source": [
        "#### 1.2 Standardizing data (5 points)\n",
        "\n",
        "Listed below are continuous features or variables that need to be standardized.\n",
        "\n",
        "`PERCENT_VARS`: 15 variables providing the percentages spent by the customer on specific classes of clothing, including sweaters, knit tops, knit dresses, blouses, jackets, career pants, casual pants, shirts, dresses, suits, outerwear, jewelry, fashion, legwear, and the collectibles line(`P*`, `PJACKETS` for example)\n",
        "\n",
        "`ZERO_IMPORTANT_VARS`: These are columns where the existence or lack thereof of a zero may be important in a classifier. We used our intuition to make these choices, believing that there is additional information encoded in having zeroes vs non-zeroes\n",
        "\n",
        "`STANDARDIZABLE`: These are continuous columns(features) that need to be brought to the same scale. They include `PERCENT_VARS` and `ZERO_IMPORTANT_VARS` and a few other columns as well"
      ]
    },
    {
      "cell_type": "code",
      "metadata": {
        "id": "XgEMRBREDsNF"
      },
      "source": [
        "# Run this cell to get the Standardizable features\n",
        "\n",
        "PERCENT_VARS=[ u'PSWEATERS', u'PKNIT_TOPS', u'PKNIT_DRES', u'PBLOUSES', u'PJACKETS', u'PCAR_PNTS', u'PCAS_PNTS', u'PSHIRTS', \n",
        "              u'PDRESSES', u'PSUITS', u'POUTERWEAR', u'PJEWELRY', u'PFASHION', u'PLEGWEAR', u'PCOLLSPND']\n",
        "ZERO_IMPORTANT_VARS = [u'PREVPD', u'AMSPEND', u'PSSPEND', u'CCSPEND', u'AXSPEND', u'RESPONDED', u'PERCRET']\n",
        "STANDARDIZABLE = PERCENT_VARS + ZERO_IMPORTANT_VARS + [u'FRE', u'MON',  u'AVRG', u'GMP', u'PROMOS', u'DAYS', u'FREDAYS', u'MARKDOWN', u'CLASSES', u'COUPONS', u'STYLES',  u'MAILED',  u'RESPONSERATE', u'HI', u'LTFREDAY']"
      ],
      "execution_count": 20,
      "outputs": []
    },
    {
      "cell_type": "markdown",
      "metadata": {
        "id": "Y_wvBS4jDsNF"
      },
      "source": [
        "**1.2 a) Use `StandardScaler` from `sklearn.preprocessing` to \"fit\" the columns in `STANDRARDIZABLE` on the training set. Then use the resultant estimator to transform both the training and the test parts of each of the columns in the dataframe, replacing the old unstandardized values in the `STANDARDIZABLE` columns of `dftouse` by the new standardized ones.**"
      ]
    },
    {
      "cell_type": "code",
      "metadata": {
        "id": "pM5Jj1RtM5Gw",
        "outputId": "50158b0b-3c1b-4e3a-9412-58db271922eb",
        "colab": {
          "base_uri": "https://localhost:8080/",
          "height": 632
        }
      },
      "source": [
        "scaler = StandardScaler()\n",
        "dftouse_std = scaler.fit(X_train[STANDARDIZABLE ])\n",
        "\n",
        "X_train[STANDARDIZABLE ] = dftouse_std.transform(X_train[STANDARDIZABLE ])\n",
        "X_test[STANDARDIZABLE] = dftouse_std.transform(X_test[STANDARDIZABLE])\n",
        "\n",
        "X_train[STANDARDIZABLE ].head()"
      ],
      "execution_count": 32,
      "outputs": [
        {
          "output_type": "stream",
          "text": [
            "/usr/local/lib/python3.6/dist-packages/ipykernel_launcher.py:4: SettingWithCopyWarning: \n",
            "A value is trying to be set on a copy of a slice from a DataFrame.\n",
            "Try using .loc[row_indexer,col_indexer] = value instead\n",
            "\n",
            "See the caveats in the documentation: https://pandas.pydata.org/pandas-docs/stable/user_guide/indexing.html#returning-a-view-versus-a-copy\n",
            "  after removing the cwd from sys.path.\n",
            "/usr/local/lib/python3.6/dist-packages/pandas/core/indexing.py:1734: SettingWithCopyWarning: \n",
            "A value is trying to be set on a copy of a slice from a DataFrame.\n",
            "Try using .loc[row_indexer,col_indexer] = value instead\n",
            "\n",
            "See the caveats in the documentation: https://pandas.pydata.org/pandas-docs/stable/user_guide/indexing.html#returning-a-view-versus-a-copy\n",
            "  isetter(loc, value[:, i].tolist())\n",
            "/usr/local/lib/python3.6/dist-packages/ipykernel_launcher.py:5: SettingWithCopyWarning: \n",
            "A value is trying to be set on a copy of a slice from a DataFrame.\n",
            "Try using .loc[row_indexer,col_indexer] = value instead\n",
            "\n",
            "See the caveats in the documentation: https://pandas.pydata.org/pandas-docs/stable/user_guide/indexing.html#returning-a-view-versus-a-copy\n",
            "  \"\"\"\n",
            "/usr/local/lib/python3.6/dist-packages/pandas/core/indexing.py:1734: SettingWithCopyWarning: \n",
            "A value is trying to be set on a copy of a slice from a DataFrame.\n",
            "Try using .loc[row_indexer,col_indexer] = value instead\n",
            "\n",
            "See the caveats in the documentation: https://pandas.pydata.org/pandas-docs/stable/user_guide/indexing.html#returning-a-view-versus-a-copy\n",
            "  isetter(loc, value[:, i].tolist())\n"
          ],
          "name": "stderr"
        },
        {
          "output_type": "execute_result",
          "data": {
            "text/html": [
              "<div>\n",
              "<style scoped>\n",
              "    .dataframe tbody tr th:only-of-type {\n",
              "        vertical-align: middle;\n",
              "    }\n",
              "\n",
              "    .dataframe tbody tr th {\n",
              "        vertical-align: top;\n",
              "    }\n",
              "\n",
              "    .dataframe thead th {\n",
              "        text-align: right;\n",
              "    }\n",
              "</style>\n",
              "<table border=\"1\" class=\"dataframe\">\n",
              "  <thead>\n",
              "    <tr style=\"text-align: right;\">\n",
              "      <th></th>\n",
              "      <th>PSWEATERS</th>\n",
              "      <th>PKNIT_TOPS</th>\n",
              "      <th>PKNIT_DRES</th>\n",
              "      <th>PBLOUSES</th>\n",
              "      <th>PJACKETS</th>\n",
              "      <th>PCAR_PNTS</th>\n",
              "      <th>PCAS_PNTS</th>\n",
              "      <th>PSHIRTS</th>\n",
              "      <th>PDRESSES</th>\n",
              "      <th>PSUITS</th>\n",
              "      <th>POUTERWEAR</th>\n",
              "      <th>PJEWELRY</th>\n",
              "      <th>PFASHION</th>\n",
              "      <th>PLEGWEAR</th>\n",
              "      <th>PCOLLSPND</th>\n",
              "      <th>PREVPD</th>\n",
              "      <th>AMSPEND</th>\n",
              "      <th>PSSPEND</th>\n",
              "      <th>CCSPEND</th>\n",
              "      <th>AXSPEND</th>\n",
              "      <th>RESPONDED</th>\n",
              "      <th>PERCRET</th>\n",
              "      <th>FRE</th>\n",
              "      <th>MON</th>\n",
              "      <th>AVRG</th>\n",
              "      <th>GMP</th>\n",
              "      <th>PROMOS</th>\n",
              "      <th>DAYS</th>\n",
              "      <th>FREDAYS</th>\n",
              "      <th>MARKDOWN</th>\n",
              "      <th>CLASSES</th>\n",
              "      <th>COUPONS</th>\n",
              "      <th>STYLES</th>\n",
              "      <th>MAILED</th>\n",
              "      <th>RESPONSERATE</th>\n",
              "      <th>HI</th>\n",
              "      <th>LTFREDAY</th>\n",
              "    </tr>\n",
              "  </thead>\n",
              "  <tbody>\n",
              "    <tr>\n",
              "      <th>7192</th>\n",
              "      <td>-0.186670</td>\n",
              "      <td>-0.389384</td>\n",
              "      <td>-0.375122</td>\n",
              "      <td>0.271654</td>\n",
              "      <td>0.994345</td>\n",
              "      <td>0.735957</td>\n",
              "      <td>-0.518108</td>\n",
              "      <td>-0.562372</td>\n",
              "      <td>-0.432946</td>\n",
              "      <td>-0.260496</td>\n",
              "      <td>-0.184963</td>\n",
              "      <td>-0.258445</td>\n",
              "      <td>-0.382888</td>\n",
              "      <td>-0.253001</td>\n",
              "      <td>1.010712</td>\n",
              "      <td>-0.383469</td>\n",
              "      <td>-0.094371</td>\n",
              "      <td>-0.372025</td>\n",
              "      <td>0.368151</td>\n",
              "      <td>-0.209197</td>\n",
              "      <td>-0.652583</td>\n",
              "      <td>0.114448</td>\n",
              "      <td>-0.324745</td>\n",
              "      <td>-0.024466</td>\n",
              "      <td>0.451646</td>\n",
              "      <td>0.549826</td>\n",
              "      <td>0.480832</td>\n",
              "      <td>-0.469021</td>\n",
              "      <td>-0.376227</td>\n",
              "      <td>-0.212032</td>\n",
              "      <td>-0.213159</td>\n",
              "      <td>-0.448461</td>\n",
              "      <td>-0.128348</td>\n",
              "      <td>0.091691</td>\n",
              "      <td>-0.705257</td>\n",
              "      <td>-0.427829</td>\n",
              "      <td>-0.137039</td>\n",
              "    </tr>\n",
              "    <tr>\n",
              "      <th>5952</th>\n",
              "      <td>0.247558</td>\n",
              "      <td>-0.247945</td>\n",
              "      <td>-0.375122</td>\n",
              "      <td>-0.242192</td>\n",
              "      <td>-0.579410</td>\n",
              "      <td>0.380625</td>\n",
              "      <td>0.312733</td>\n",
              "      <td>0.035788</td>\n",
              "      <td>0.325598</td>\n",
              "      <td>-0.260496</td>\n",
              "      <td>0.402868</td>\n",
              "      <td>-0.258445</td>\n",
              "      <td>0.649618</td>\n",
              "      <td>-0.051881</td>\n",
              "      <td>-0.247678</td>\n",
              "      <td>0.730394</td>\n",
              "      <td>-0.094371</td>\n",
              "      <td>3.318967</td>\n",
              "      <td>-0.184259</td>\n",
              "      <td>-0.209197</td>\n",
              "      <td>0.987714</td>\n",
              "      <td>-0.219255</td>\n",
              "      <td>0.779569</td>\n",
              "      <td>1.827997</td>\n",
              "      <td>0.599138</td>\n",
              "      <td>0.196475</td>\n",
              "      <td>0.761250</td>\n",
              "      <td>0.474485</td>\n",
              "      <td>-0.806292</td>\n",
              "      <td>0.252394</td>\n",
              "      <td>1.653359</td>\n",
              "      <td>1.966126</td>\n",
              "      <td>1.457893</td>\n",
              "      <td>0.936455</td>\n",
              "      <td>0.832706</td>\n",
              "      <td>-0.814810</td>\n",
              "      <td>-0.857183</td>\n",
              "    </tr>\n",
              "    <tr>\n",
              "      <th>17669</th>\n",
              "      <td>-0.924858</td>\n",
              "      <td>1.166440</td>\n",
              "      <td>-0.375122</td>\n",
              "      <td>-0.682631</td>\n",
              "      <td>-0.742212</td>\n",
              "      <td>-0.614302</td>\n",
              "      <td>2.125476</td>\n",
              "      <td>-0.562372</td>\n",
              "      <td>2.854079</td>\n",
              "      <td>-0.260496</td>\n",
              "      <td>-0.184963</td>\n",
              "      <td>-0.258445</td>\n",
              "      <td>-0.382888</td>\n",
              "      <td>-0.253001</td>\n",
              "      <td>-0.419277</td>\n",
              "      <td>-0.383469</td>\n",
              "      <td>-0.094371</td>\n",
              "      <td>-0.192925</td>\n",
              "      <td>-0.615773</td>\n",
              "      <td>-0.209197</td>\n",
              "      <td>-0.652583</td>\n",
              "      <td>-0.219255</td>\n",
              "      <td>-0.640264</td>\n",
              "      <td>-0.610563</td>\n",
              "      <td>-0.396754</td>\n",
              "      <td>-0.156876</td>\n",
              "      <td>-1.622306</td>\n",
              "      <td>-1.847991</td>\n",
              "      <td>-0.608326</td>\n",
              "      <td>0.639416</td>\n",
              "      <td>-0.773114</td>\n",
              "      <td>-0.448461</td>\n",
              "      <td>-0.575749</td>\n",
              "      <td>-1.316248</td>\n",
              "      <td>-0.705257</td>\n",
              "      <td>0.128016</td>\n",
              "      <td>-0.498438</td>\n",
              "    </tr>\n",
              "    <tr>\n",
              "      <th>5146</th>\n",
              "      <td>-0.143247</td>\n",
              "      <td>-0.247945</td>\n",
              "      <td>-0.375122</td>\n",
              "      <td>0.418467</td>\n",
              "      <td>0.126067</td>\n",
              "      <td>-0.045772</td>\n",
              "      <td>-0.518108</td>\n",
              "      <td>-0.306017</td>\n",
              "      <td>0.515234</td>\n",
              "      <td>-0.260496</td>\n",
              "      <td>0.598811</td>\n",
              "      <td>-0.258445</td>\n",
              "      <td>-0.253824</td>\n",
              "      <td>-0.253001</td>\n",
              "      <td>0.781914</td>\n",
              "      <td>2.683633</td>\n",
              "      <td>-0.094371</td>\n",
              "      <td>-0.351576</td>\n",
              "      <td>1.915934</td>\n",
              "      <td>-0.209197</td>\n",
              "      <td>0.440948</td>\n",
              "      <td>-0.019033</td>\n",
              "      <td>0.937328</td>\n",
              "      <td>1.081112</td>\n",
              "      <td>-0.085655</td>\n",
              "      <td>-0.156876</td>\n",
              "      <td>0.621041</td>\n",
              "      <td>-0.313498</td>\n",
              "      <td>-0.933537</td>\n",
              "      <td>0.949033</td>\n",
              "      <td>1.280056</td>\n",
              "      <td>0.758833</td>\n",
              "      <td>0.766455</td>\n",
              "      <td>0.091691</td>\n",
              "      <td>0.935237</td>\n",
              "      <td>-0.743746</td>\n",
              "      <td>-0.735622</td>\n",
              "    </tr>\n",
              "    <tr>\n",
              "      <th>9279</th>\n",
              "      <td>-0.924858</td>\n",
              "      <td>-0.389384</td>\n",
              "      <td>0.974920</td>\n",
              "      <td>-0.168785</td>\n",
              "      <td>-0.742212</td>\n",
              "      <td>-0.614302</td>\n",
              "      <td>-0.518108</td>\n",
              "      <td>1.317559</td>\n",
              "      <td>1.336991</td>\n",
              "      <td>-0.260496</td>\n",
              "      <td>-0.184963</td>\n",
              "      <td>-0.258445</td>\n",
              "      <td>-0.382888</td>\n",
              "      <td>-0.253001</td>\n",
              "      <td>-0.419277</td>\n",
              "      <td>-0.383469</td>\n",
              "      <td>-0.094371</td>\n",
              "      <td>-0.372025</td>\n",
              "      <td>-0.318608</td>\n",
              "      <td>-0.209197</td>\n",
              "      <td>-0.652583</td>\n",
              "      <td>0.381410</td>\n",
              "      <td>-0.166986</td>\n",
              "      <td>-0.509504</td>\n",
              "      <td>-0.903226</td>\n",
              "      <td>-3.054352</td>\n",
              "      <td>-0.500633</td>\n",
              "      <td>-0.883749</td>\n",
              "      <td>-0.710722</td>\n",
              "      <td>1.258650</td>\n",
              "      <td>-0.399810</td>\n",
              "      <td>-0.448461</td>\n",
              "      <td>-0.291039</td>\n",
              "      <td>-0.753072</td>\n",
              "      <td>-0.705257</td>\n",
              "      <td>-0.781037</td>\n",
              "      <td>-0.339220</td>\n",
              "    </tr>\n",
              "  </tbody>\n",
              "</table>\n",
              "</div>"
            ],
            "text/plain": [
              "       PSWEATERS  PKNIT_TOPS  PKNIT_DRES  ...  RESPONSERATE        HI  LTFREDAY\n",
              "7192   -0.186670   -0.389384   -0.375122  ...     -0.705257 -0.427829 -0.137039\n",
              "5952    0.247558   -0.247945   -0.375122  ...      0.832706 -0.814810 -0.857183\n",
              "17669  -0.924858    1.166440   -0.375122  ...     -0.705257  0.128016 -0.498438\n",
              "5146   -0.143247   -0.247945   -0.375122  ...      0.935237 -0.743746 -0.735622\n",
              "9279   -0.924858   -0.389384    0.974920  ...     -0.705257 -0.781037 -0.339220\n",
              "\n",
              "[5 rows x 37 columns]"
            ]
          },
          "metadata": {
            "tags": []
          },
          "execution_count": 32
        }
      ]
    },
    {
      "cell_type": "markdown",
      "metadata": {
        "id": "_A_Arq5-DsNG"
      },
      "source": [
        "**1.2 b) Should standardization be done on all the data or should it be done separately on the training & test sets? Explain with your reasoning**"
      ]
    },
    {
      "cell_type": "markdown",
      "metadata": {
        "id": "AdoLI1NQDsNG"
      },
      "source": [
        "Standardization be done on all the data to prevent data leakage.When splitting a data-set into testing and training sets, the goal is to ensure that no data is shared between the two."
      ]
    },
    {
      "cell_type": "markdown",
      "metadata": {
        "id": "p4ObXOnlDsNG"
      },
      "source": [
        "## Q2: Classification with Lasso (L1) regularization (30 points)\n",
        "\n",
        "We will now take this data and write a classifier to predict the response, which is in the `RESP` column of `dftouse`. This response corresponds to asking the question: will a user targeted with our advertisement respond or not?"
      ]
    },
    {
      "cell_type": "markdown",
      "metadata": {
        "id": "fgyQTknsDsNH"
      },
      "source": [
        "#### 2.1 Baseline Classifiers (4 points)\n",
        "\n",
        "**2.1 a) What is the accuracy of a classifier that predicts that `no customer will respond to our mailing`? Why do you think the accuracy is the way it is?**"
      ]
    },
    {
      "cell_type": "code",
      "metadata": {
        "id": "JK1vj66EDsNH",
        "outputId": "14c0f43b-280b-4e04-dcdc-c8c5d200ac66",
        "colab": {
          "base_uri": "https://localhost:8080/"
        }
      },
      "source": [
        "# your code here\n",
        "accuracy = accuracy_score(y_test, np.repeat(0, len(X_test)))\n",
        "print(accuracy)"
      ],
      "execution_count": 35,
      "outputs": [
        {
          "output_type": "stream",
          "text": [
            "0.8376513873984363\n"
          ],
          "name": "stdout"
        }
      ]
    },
    {
      "cell_type": "markdown",
      "metadata": {
        "id": "aFlUtNNSDsNI"
      },
      "source": [
        "**2.1 b) What is the accuracy of a classifier that predicts that `all customers will respond to our mailing`?**"
      ]
    },
    {
      "cell_type": "code",
      "metadata": {
        "id": "yJWKdYLZDsNI",
        "outputId": "9fd410fd-3c48-4a61-a2fb-244df9f8b9d0",
        "colab": {
          "base_uri": "https://localhost:8080/"
        }
      },
      "source": [
        "# your code here\n",
        "accuracy = accuracy_score(y_test, np.repeat(1, len(X_test)))\n",
        "print(accuracy)"
      ],
      "execution_count": 36,
      "outputs": [
        {
          "output_type": "stream",
          "text": [
            "0.1623486126015637\n"
          ],
          "name": "stdout"
        }
      ]
    },
    {
      "cell_type": "markdown",
      "metadata": {
        "id": "2yD4rg9LDsNI"
      },
      "source": [
        "#### 2.2 Classification Model - Logistic with Lasso (L1) (21 points)\n",
        "\n",
        "**2.2 a) Train a Logistic Regression Model with L1 regularization. Take all columns as features apart from the response variable `RESP`. Fine-tune your model by performing 5-fold CV (use the helper function below) to find the best value of the hyper-parameter 'C' from the follwing values: *'{0.001,0.01,0.1,1,10,100}'*.**"
      ]
    },
    {
      "cell_type": "code",
      "metadata": {
        "id": "XaU2aVmDDsNI"
      },
      "source": [
        "# helper function for cross-validation\n",
        "\n",
        "def cv_optimize(clf, parameters, X, y, n_folds):\n",
        "\n",
        "    gs = GridSearchCV(clf, param_grid=parameters, cv=n_folds)\n",
        "    gs.fit(X, y)\n",
        "    print(\"BEST\", gs.best_params_, gs.best_score_)\n",
        "    best = gs.best_estimator_\n",
        "    return best"
      ],
      "execution_count": 38,
      "outputs": []
    },
    {
      "cell_type": "code",
      "metadata": {
        "id": "XW4_SmVDDsNI",
        "outputId": "e5c7b10c-8deb-48be-bbc4-2fd041ceb9ec",
        "colab": {
          "base_uri": "https://localhost:8080/"
        }
      },
      "source": [
        "# your code here\n",
        "folds = 5\n",
        "parameters = {\"C\": [0.001, 0.01, 0.1, 1, 10, 100]}\n",
        "clf = LogisticRegression(penalty='l1', solver=\"liblinear\")\n",
        "\n",
        "best = cv_optimize(clf, parameters, X_train, y_train, folds)"
      ],
      "execution_count": 41,
      "outputs": [
        {
          "output_type": "stream",
          "text": [
            "BEST {'C': 0.1} 0.8513509819611412\n"
          ],
          "name": "stdout"
        }
      ]
    },
    {
      "cell_type": "markdown",
      "metadata": {
        "id": "GZd0LF8eDsNJ"
      },
      "source": [
        "**2.2 b) The Lasso implements internally, a form of feature selection by setting many coefficients to zero. Print the top 10 non-zero coefficient features from the classifier sorted by the absolute magnitude of the coefficients (highest to lowest)**"
      ]
    },
    {
      "cell_type": "code",
      "metadata": {
        "id": "_sPozI85DsNJ",
        "outputId": "951c0b32-3ad8-4214-a703-a90c97438f91",
        "colab": {
          "base_uri": "https://localhost:8080/"
        }
      },
      "source": [
        "# your code here\n",
        "param_clf = pd.DataFrame(data=best.coef_[0], index=X_train.columns, columns=[\"param\"])\n",
        "\n",
        "non_zero_coef = param_clf.sort_values(by='param', axis=0, ascending=False)[:10]\n",
        "\n",
        "print(non_zero_coef)"
      ],
      "execution_count": 43,
      "outputs": [
        {
          "output_type": "stream",
          "text": [
            "                 param\n",
            "FREDAYS       0.450918\n",
            "FRE           0.408087\n",
            "i_WEB         0.312893\n",
            "DAYS          0.222364\n",
            "RESPONSERATE  0.084071\n",
            "PJEWELRY      0.066082\n",
            "i_CC_CARD     0.065310\n",
            "GMP           0.060219\n",
            "STYLES        0.058699\n",
            "i_PDRESSES    0.046606\n"
          ],
          "name": "stdout"
        }
      ]
    },
    {
      "cell_type": "markdown",
      "metadata": {
        "id": "rQrlmcTwDsNJ"
      },
      "source": [
        "We can also get a notion of which features are important in the classification process by seeing how they correlate with the response. This can be done using the Pearson correlation coefficient between each of our features and the response.\n",
        "\n",
        "The Pearson correlation method is the most common method to use for numerical variables; it assigns a value between − 1 and 1, where 0 is no correlation, 1 is total positive correlation, and − 1 is total negative correlation. This is interpreted as follows: a correlation value of 0.7 between two variables would indicate that a significant and positive relationship exists between the two. A positive correlation signifies that if variable A goes up, then B will also go up, whereas if the value of the correlation is negative, then if A increases, B decreases."
      ]
    },
    {
      "cell_type": "markdown",
      "metadata": {
        "id": "wPu2U-j8DsNJ"
      },
      "source": [
        "**2.2 c) Implement some code to obtain the Pearson correlation coefficient between each of our features and the response. Do this on the training set only! Create a dataframe indexed by the features, which has columns `abscorr` the absolute value of the correlation and `corr` the value of the correlation. Sort the dataframe by `abscorr`, highest first, and show the top 25 features with the highest absolute correlation.**\n",
        "\n",
        "**Is there much overlap with the feature selection performed by the LASSO?**\n",
        "\n",
        "*Hint* : Use `pearsonr` from `scipy.stats.stats`. This has already been imported at the beginning"
      ]
    },
    {
      "cell_type": "code",
      "metadata": {
        "id": "mfJGCeyMDsNK",
        "outputId": "9b2b0245-6292-4f14-f08b-4c96fcf0f99a",
        "colab": {
          "base_uri": "https://localhost:8080/",
          "height": 878
        }
      },
      "source": [
        "# your code here\n",
        "correlatedf = pd.DataFrame()\n",
        "\n",
        "for i in X_train.columns:\n",
        "  co = pearsonr(X_train[i], y_train)\n",
        "  correlatedf=pd.concat([correlatedf, pd.DataFrame({'feature':i,\"corr\":co[0],\"abscorr\":abs(co[0])}, index=[i])])\n",
        "\n",
        "\n",
        "highest_absolute_correlation = correlatedf.sort_values(by=\"abscorr\", axis=0, ascending=False)[:25]\n",
        "\n",
        "highest_absolute_correlation"
      ],
      "execution_count": 46,
      "outputs": [
        {
          "output_type": "stream",
          "text": [
            "/usr/local/lib/python3.6/dist-packages/scipy/stats/stats.py:3508: PearsonRConstantInputWarning: An input array is constant; the correlation coefficent is not defined.\n",
            "  warnings.warn(PearsonRConstantInputWarning())\n"
          ],
          "name": "stderr"
        },
        {
          "output_type": "execute_result",
          "data": {
            "text/html": [
              "<div>\n",
              "<style scoped>\n",
              "    .dataframe tbody tr th:only-of-type {\n",
              "        vertical-align: middle;\n",
              "    }\n",
              "\n",
              "    .dataframe tbody tr th {\n",
              "        vertical-align: top;\n",
              "    }\n",
              "\n",
              "    .dataframe thead th {\n",
              "        text-align: right;\n",
              "    }\n",
              "</style>\n",
              "<table border=\"1\" class=\"dataframe\">\n",
              "  <thead>\n",
              "    <tr style=\"text-align: right;\">\n",
              "      <th></th>\n",
              "      <th>feature</th>\n",
              "      <th>corr</th>\n",
              "      <th>abscorr</th>\n",
              "    </tr>\n",
              "  </thead>\n",
              "  <tbody>\n",
              "    <tr>\n",
              "      <th>FRE</th>\n",
              "      <td>FRE</td>\n",
              "      <td>0.410738</td>\n",
              "      <td>0.410738</td>\n",
              "    </tr>\n",
              "    <tr>\n",
              "      <th>CLASSES</th>\n",
              "      <td>CLASSES</td>\n",
              "      <td>0.369044</td>\n",
              "      <td>0.369044</td>\n",
              "    </tr>\n",
              "    <tr>\n",
              "      <th>STYLES</th>\n",
              "      <td>STYLES</td>\n",
              "      <td>0.361029</td>\n",
              "      <td>0.361029</td>\n",
              "    </tr>\n",
              "    <tr>\n",
              "      <th>RESPONDED</th>\n",
              "      <td>RESPONDED</td>\n",
              "      <td>0.348353</td>\n",
              "      <td>0.348353</td>\n",
              "    </tr>\n",
              "    <tr>\n",
              "      <th>RESPONSERATE</th>\n",
              "      <td>RESPONSERATE</td>\n",
              "      <td>0.328102</td>\n",
              "      <td>0.328102</td>\n",
              "    </tr>\n",
              "    <tr>\n",
              "      <th>MON</th>\n",
              "      <td>MON</td>\n",
              "      <td>0.316683</td>\n",
              "      <td>0.316683</td>\n",
              "    </tr>\n",
              "    <tr>\n",
              "      <th>LTFREDAY</th>\n",
              "      <td>LTFREDAY</td>\n",
              "      <td>-0.305194</td>\n",
              "      <td>0.305194</td>\n",
              "    </tr>\n",
              "    <tr>\n",
              "      <th>COUPONS</th>\n",
              "      <td>COUPONS</td>\n",
              "      <td>0.302725</td>\n",
              "      <td>0.302725</td>\n",
              "    </tr>\n",
              "    <tr>\n",
              "      <th>SMONSPEND</th>\n",
              "      <td>SMONSPEND</td>\n",
              "      <td>0.300664</td>\n",
              "      <td>0.300664</td>\n",
              "    </tr>\n",
              "    <tr>\n",
              "      <th>STORES</th>\n",
              "      <td>STORES</td>\n",
              "      <td>0.298120</td>\n",
              "      <td>0.298120</td>\n",
              "    </tr>\n",
              "    <tr>\n",
              "      <th>TMONSPEND</th>\n",
              "      <td>TMONSPEND</td>\n",
              "      <td>0.261554</td>\n",
              "      <td>0.261554</td>\n",
              "    </tr>\n",
              "    <tr>\n",
              "      <th>i_RESPONDED</th>\n",
              "      <td>i_RESPONDED</td>\n",
              "      <td>0.257058</td>\n",
              "      <td>0.257058</td>\n",
              "    </tr>\n",
              "    <tr>\n",
              "      <th>i_PERCRET</th>\n",
              "      <td>i_PERCRET</td>\n",
              "      <td>0.252897</td>\n",
              "      <td>0.252897</td>\n",
              "    </tr>\n",
              "    <tr>\n",
              "      <th>i_CC_CARD</th>\n",
              "      <td>i_CC_CARD</td>\n",
              "      <td>0.240872</td>\n",
              "      <td>0.240872</td>\n",
              "    </tr>\n",
              "    <tr>\n",
              "      <th>i_RECENT</th>\n",
              "      <td>i_RECENT</td>\n",
              "      <td>0.233211</td>\n",
              "      <td>0.233211</td>\n",
              "    </tr>\n",
              "    <tr>\n",
              "      <th>CCSPEND</th>\n",
              "      <td>CCSPEND</td>\n",
              "      <td>0.232865</td>\n",
              "      <td>0.232865</td>\n",
              "    </tr>\n",
              "    <tr>\n",
              "      <th>HI</th>\n",
              "      <td>HI</td>\n",
              "      <td>-0.228594</td>\n",
              "      <td>0.228594</td>\n",
              "    </tr>\n",
              "    <tr>\n",
              "      <th>PROMOS</th>\n",
              "      <td>PROMOS</td>\n",
              "      <td>0.226691</td>\n",
              "      <td>0.226691</td>\n",
              "    </tr>\n",
              "    <tr>\n",
              "      <th>FREDAYS</th>\n",
              "      <td>FREDAYS</td>\n",
              "      <td>-0.225714</td>\n",
              "      <td>0.225714</td>\n",
              "    </tr>\n",
              "    <tr>\n",
              "      <th>MAILED</th>\n",
              "      <td>MAILED</td>\n",
              "      <td>0.207333</td>\n",
              "      <td>0.207333</td>\n",
              "    </tr>\n",
              "    <tr>\n",
              "      <th>OMONSPEND</th>\n",
              "      <td>OMONSPEND</td>\n",
              "      <td>0.205825</td>\n",
              "      <td>0.205825</td>\n",
              "    </tr>\n",
              "    <tr>\n",
              "      <th>PSSPEND</th>\n",
              "      <td>PSSPEND</td>\n",
              "      <td>0.202627</td>\n",
              "      <td>0.202627</td>\n",
              "    </tr>\n",
              "    <tr>\n",
              "      <th>i_PKNIT_TOPS</th>\n",
              "      <td>i_PKNIT_TOPS</td>\n",
              "      <td>0.199898</td>\n",
              "      <td>0.199898</td>\n",
              "    </tr>\n",
              "    <tr>\n",
              "      <th>i_PFASHION</th>\n",
              "      <td>i_PFASHION</td>\n",
              "      <td>0.190898</td>\n",
              "      <td>0.190898</td>\n",
              "    </tr>\n",
              "    <tr>\n",
              "      <th>DAYS</th>\n",
              "      <td>DAYS</td>\n",
              "      <td>0.185930</td>\n",
              "      <td>0.185930</td>\n",
              "    </tr>\n",
              "  </tbody>\n",
              "</table>\n",
              "</div>"
            ],
            "text/plain": [
              "                   feature      corr   abscorr\n",
              "FRE                    FRE  0.410738  0.410738\n",
              "CLASSES            CLASSES  0.369044  0.369044\n",
              "STYLES              STYLES  0.361029  0.361029\n",
              "RESPONDED        RESPONDED  0.348353  0.348353\n",
              "RESPONSERATE  RESPONSERATE  0.328102  0.328102\n",
              "MON                    MON  0.316683  0.316683\n",
              "LTFREDAY          LTFREDAY -0.305194  0.305194\n",
              "COUPONS            COUPONS  0.302725  0.302725\n",
              "SMONSPEND        SMONSPEND  0.300664  0.300664\n",
              "STORES              STORES  0.298120  0.298120\n",
              "TMONSPEND        TMONSPEND  0.261554  0.261554\n",
              "i_RESPONDED    i_RESPONDED  0.257058  0.257058\n",
              "i_PERCRET        i_PERCRET  0.252897  0.252897\n",
              "i_CC_CARD        i_CC_CARD  0.240872  0.240872\n",
              "i_RECENT          i_RECENT  0.233211  0.233211\n",
              "CCSPEND            CCSPEND  0.232865  0.232865\n",
              "HI                      HI -0.228594  0.228594\n",
              "PROMOS              PROMOS  0.226691  0.226691\n",
              "FREDAYS            FREDAYS -0.225714  0.225714\n",
              "MAILED              MAILED  0.207333  0.207333\n",
              "OMONSPEND        OMONSPEND  0.205825  0.205825\n",
              "PSSPEND            PSSPEND  0.202627  0.202627\n",
              "i_PKNIT_TOPS  i_PKNIT_TOPS  0.199898  0.199898\n",
              "i_PFASHION      i_PFASHION  0.190898  0.190898\n",
              "DAYS                  DAYS  0.185930  0.185930"
            ]
          },
          "metadata": {
            "tags": []
          },
          "execution_count": 46
        }
      ]
    },
    {
      "cell_type": "markdown",
      "metadata": {
        "id": "zfVlkkFpDsNK"
      },
      "source": [
        "There is overlap in params(FREDAYS, FRE, DAYS, RESPONSERATE, PJEWELRY, STYLES...) while using feature selection using Lasso and Pearson correlation coefficient"
      ]
    },
    {
      "cell_type": "markdown",
      "metadata": {
        "id": "Q64Ejbe8DsNK"
      },
      "source": [
        "**2.2 d) Compare the accuracy of this classifier with the `no customer responds baseline` model. Does this classifier seem worthwhile pursuing?**"
      ]
    },
    {
      "cell_type": "code",
      "metadata": {
        "id": "C_lZ9OajWxx4",
        "outputId": "ae2955a5-6bd6-41f8-ca9e-24c5a0dfc3dd",
        "colab": {
          "base_uri": "https://localhost:8080/"
        }
      },
      "source": [
        "accuracy_score(y_test, best.predict(X_test))"
      ],
      "execution_count": 48,
      "outputs": [
        {
          "output_type": "execute_result",
          "data": {
            "text/plain": [
              "0.8562011344473401"
            ]
          },
          "metadata": {
            "tags": []
          },
          "execution_count": 48
        }
      ]
    },
    {
      "cell_type": "markdown",
      "metadata": {
        "id": "Bib6f_kADsNK"
      },
      "source": [
        "**2.2 e) Is accuracy really the best metric to evaluate the models above? Why/Why not?**"
      ]
    },
    {
      "cell_type": "markdown",
      "metadata": {
        "id": "UXqsiKHSDsNK"
      },
      "source": [
        "slight change(0.856 - 0.837); no customer responds baseline still high so not a really worthwhile pursuing."
      ]
    },
    {
      "cell_type": "markdown",
      "metadata": {
        "id": "0fpPPWPYDsNL"
      },
      "source": [
        "#### 2.3 Prediction (5 points)\n",
        "\n",
        "**Print out the accuracy on the train and test set separately**"
      ]
    },
    {
      "cell_type": "code",
      "metadata": {
        "id": "siKCYY-3DsNL",
        "outputId": "f9c89347-6810-4029-bf84-fd32c4542901",
        "colab": {
          "base_uri": "https://localhost:8080/"
        }
      },
      "source": [
        "# your code here\n",
        "print(\"training accuracy: \",accuracy_score(y_train, best.predict(X_train)))\n",
        "print(\"test accuracy\",accuracy_score(y_test, best.predict(X_test)))"
      ],
      "execution_count": 49,
      "outputs": [
        {
          "output_type": "stream",
          "text": [
            "training accuracy:  0.8524676348820398\n",
            "test accuracy 0.8562011344473401\n"
          ],
          "name": "stdout"
        }
      ]
    },
    {
      "cell_type": "markdown",
      "metadata": {
        "id": "7vsOQP2CDsNL"
      },
      "source": [
        "## Q3: Confusion Matrix, Costs, Averge Profit & Thresholds (35 points)"
      ]
    },
    {
      "cell_type": "markdown",
      "metadata": {
        "id": "aZ8rYM_EDsNL"
      },
      "source": [
        "#### 3.1 Confusion Matrix (7 points)\n",
        "\n",
        "The confusion matrix is of the following form:\n",
        "\n",
        "![hwimages](https://github.com/pramendra/Homework3/blob/master/images/confusionmatrix.png?raw=1)"
      ]
    },
    {
      "cell_type": "markdown",
      "metadata": {
        "id": "EAs7WDErDsNL"
      },
      "source": [
        "**3.1 a) Plot the confusion matrix for the above models on the train & test data-sets using the helper function below(total 2 plots)**\n"
      ]
    },
    {
      "cell_type": "code",
      "metadata": {
        "id": "NmxKiDgADsNL"
      },
      "source": [
        "# helper function to plot confusion matrix\n",
        "\n",
        "def plot_confusion_matrix(model, features, labels, test=True):\n",
        "\n",
        "    # Predict the values from the dataset\n",
        "    y_pred = model.predict(features)\n",
        "    # Convert validation observations to one hot vectors\n",
        "    y_true = labels \n",
        "    # compute the confusion matrix\n",
        "    confusion_mtx = confusion_matrix(y_true, y_pred) \n",
        "\n",
        "    df_cm = pd.DataFrame(confusion_mtx, range(2),\n",
        "                      range(2))\n",
        "    sns.heatmap(df_cm, annot=True, annot_kws = {'size':15}, cmap = 'Blues',fmt = 'd',\n",
        "                norm=LogNorm(df_cm.values.min(),df_cm.values.max()),\n",
        "                cbar_kws={\"ticks\":[0,1,10,1e2,1e3,1e4]},vmin=0.001, vmax=10000)\n",
        "    plt.tight_layout()\n",
        "    if test:\n",
        "        plt.title('Confusion matrix on Test data')\n",
        "    else:\n",
        "        plt.title('Confusion matrix on Train data')\n",
        "    plt.ylabel('Observed label')\n",
        "    plt.xlabel('Predicted label')\n",
        "    plt.ylim(2,0)\n",
        "    plt.show()"
      ],
      "execution_count": 50,
      "outputs": []
    },
    {
      "cell_type": "code",
      "metadata": {
        "id": "fJaG2j-pDsNM",
        "outputId": "3205783b-843e-472e-ba08-5c91c3514bba",
        "colab": {
          "base_uri": "https://localhost:8080/",
          "height": 661
        }
      },
      "source": [
        "# your code here\n",
        "print(\"confusion_matrix on train data set\")\n",
        "plot_confusion_matrix(best, X_train, y_train)\n",
        "\n",
        "print(\"confusion_matrix on test data set\")\n",
        "plot_confusion_matrix(best, X_test, y_test)"
      ],
      "execution_count": 56,
      "outputs": [
        {
          "output_type": "stream",
          "text": [
            "confusion_matrix on train data set\n"
          ],
          "name": "stdout"
        },
        {
          "output_type": "display_data",
          "data": {
            "image/png": "[encoded data removed]",
            "text/plain": [
              "<Figure size 432x288 with 2 Axes>"
            ]
          },
          "metadata": {
            "tags": [],
            "needs_background": "light"
          }
        },
        {
          "output_type": "stream",
          "text": [
            "confusion_matrix on test data set\n"
          ],
          "name": "stdout"
        },
        {
          "output_type": "display_data",
          "data": {
            "image/png": "[encoded data removed]",
            "text/plain": [
              "<Figure size 432x288 with 2 Axes>"
            ]
          },
          "metadata": {
            "tags": [],
            "needs_background": "light"
          }
        }
      ]
    },
    {
      "cell_type": "markdown",
      "metadata": {
        "id": "XS5tmaTuDsNM"
      },
      "source": [
        "**3.1 b) Calculate and print out the Observed Negatives(ON), Observed Positives(OP), Predicted Negatives(PN) & Predicted Positives(PP) for the test data-set**"
      ]
    },
    {
      "cell_type": "code",
      "metadata": {
        "id": "WynvQc4oDsNM",
        "outputId": "d3993398-9ac7-435c-ea27-36a680db46f7",
        "colab": {
          "base_uri": "https://localhost:8080/"
        }
      },
      "source": [
        "# your code here\n",
        "\n",
        "cm_on_test = confusion_matrix(y_test, best.predict(X_test))\n",
        "\n",
        "print(\"Observed Negatives(ON)\", cm_on_test[0][0] + cm_on_test[0][1])\n",
        "print(\"Observed Positives(OP)\", cm_on_test[1][0] + cm_on_test[1][1])\n",
        "\n",
        "print(\"Predicted Negatives(PN)\", cm_on_test[0][0] + cm_on_test[1][0])\n",
        "print(\"Predicted Positives(PP)\", cm_on_test[0][1] + cm_on_test[1][1])\n"
      ],
      "execution_count": 58,
      "outputs": [
        {
          "output_type": "stream",
          "text": [
            "Observed Negatives(ON) 5464\n",
            "Observed Positives(OP) 1059\n",
            "Predicted Negatives(PN) 6150\n",
            "Predicted Positives(PP) 373\n"
          ],
          "name": "stdout"
        }
      ]
    },
    {
      "cell_type": "markdown",
      "metadata": {
        "id": "9VI_jE4YDsNM"
      },
      "source": [
        "In addition to these four quantities, the confusion matrix gives us more details on proper classifications and mis-classifications from our classifier:\n",
        "\n",
        "- the samples that are +ive and the classifier predicts as +ive are called True Positives (TP). These are folks we correctly identified as responders,and thus sending them a mailing would result in a sale for us. True Positives are great. We do incur the cost of mailing them, but we like to because they will come into the store to buy.\n",
        "- the samples that are -ive and the classifier predicts (wrongly) as +ive are called False Positives (FP). False Positives incur us the cost of mailing them as well, but are not very costly. These are people who wouldnt have responded, but we sent them a mailing because our classifier mispredicted them as buyers. Thus, for them, we only incur the cost of preparing the mailing and mailing it to them.\n",
        "- the samples that are -ive and the classifier predicts as -ive are called True Negatives (TN). These are folks we correctly identified as not-responding, and thus we dont waste any money on sending them a mailing. This is a great classification for us.\n",
        "- the samples that are +ive and the classifier predicts as -ive are called False Negatives (FN). False negatives are VERY costly: these are folks who would have responded to us had we mailed them, but we didnt target them, leading to huge lost sales per person. Notice that our Logistic classifier has tons of False Negatives\n",
        "\n",
        "It is not enough to simply identify these categories from the confusion matrix. Rather, we want to sit down with our business team and identify the costs associated with each of the 4 classification situations above. Keep in mind that these costs might even change from year to year or even more suddenly: this is why it is important to have marketing and sales people on your data science teams. (See Patil, D. J. Building data science teams. \" O'Reilly Media, Inc.\", 2011.\n",
        " for more details)."
      ]
    },
    {
      "cell_type": "markdown",
      "metadata": {
        "id": "FY6J3_n5DsNM"
      },
      "source": [
        "#### 3.2 Cost  and Utility Matrix (6 points)\n",
        "\n",
        "We use the costs to write a **risk or cost matrix** in the same form as the confusion matrix above. \n",
        "\n",
        "![cost matrix](https://github.com/pramendra/Homework3/blob/master/images/costmatrix.png?raw=1)\n",
        "\n",
        "The negative of the cost matrix is called the **utility matrix or profit matrix** `u`. We shall use this in the next part of the homework."
      ]
    },
    {
      "cell_type": "markdown",
      "metadata": {
        "id": "Fhdnxc7LDsNM"
      },
      "source": [
        "Lets assume the amortized cost of mailing it is \\$3. Lets assume additionally that the profit margin on a sale is 30% (we are a high end clothing chain).\n",
        "`True Negatives (TN)` cost us nothing but gain us nothing either. "
      ]
    },
    {
      "cell_type": "code",
      "metadata": {
        "id": "oRaMv7N7DsNN"
      },
      "source": [
        "# true negative cost\n",
        "tnc = 0.0"
      ],
      "execution_count": 59,
      "outputs": []
    },
    {
      "cell_type": "markdown",
      "metadata": {
        "id": "jdgM1xqSDsNN"
      },
      "source": [
        "From the average cost of a sale, and the 30% profit assumption, we calculate `tpc`, the cost of a `True Positive (TP)`. Note: `tpc` must be negative, since we are talking about costs.\n",
        "\n",
        "The `tpc` takes into account the cost of mailing to the respondent & the cost of the coupon, and since our mailing works, we subtract out the profit. We use the average of the `AVRG` column(which is the average money spent by a customer on each visit) multiplied by the profit margin as the profit per person."
      ]
    },
    {
      "cell_type": "code",
      "metadata": {
        "id": "-FueDNkgDsNN"
      },
      "source": [
        "# true positive cost\n",
        "mail = 3 \n",
        "profit_margin = 0.3\n",
        "tpc = round(mail - df.AVRG.mean()*profit_margin,2)"
      ],
      "execution_count": null,
      "outputs": []
    },
    {
      "cell_type": "markdown",
      "metadata": {
        "id": "DlK756y5DsNN"
      },
      "source": [
        "The `False Negative (FN)` is a lost sale for us! We didnt mail them, and they didnt spend the money. They would have if we mailed them. So we lost a certain profit per such false negative! Thus the false-negative cost, given by `fnc`, is:"
      ]
    },
    {
      "cell_type": "code",
      "metadata": {
        "id": "Xay2Nwm2DsNN"
      },
      "source": [
        "fnc = round(np.mean(df.AVRG)*profit_margin,2)"
      ],
      "execution_count": null,
      "outputs": []
    },
    {
      "cell_type": "markdown",
      "metadata": {
        "id": "XqIBLSvxDsNN"
      },
      "source": [
        "This leaves us with `False Positives (FP)`. This is a person who would not have responded but you wasted $3 on. So the false positive cost, (`fpc`) is:"
      ]
    },
    {
      "cell_type": "code",
      "metadata": {
        "id": "bSar7eq-DsNN"
      },
      "source": [
        "fpc = mail"
      ],
      "execution_count": null,
      "outputs": []
    },
    {
      "cell_type": "code",
      "metadata": {
        "id": "_I39R6HIDsNO",
        "outputId": "ac95ed5d-7fde-45ea-92a1-3e8aab6f8883"
      },
      "source": [
        "print('TNC:', tnc,'\\n','TPC:', tpc,'\\n','FNC:', fnc,'\\n','FPC:', fpc)"
      ],
      "execution_count": null,
      "outputs": [
        {
          "output_type": "stream",
          "text": [
            "TNC: 0.0 \n",
            " TPC: -31.17 \n",
            " FNC: 34.17 \n",
            " FPC: 3\n"
          ],
          "name": "stdout"
        }
      ]
    },
    {
      "cell_type": "markdown",
      "metadata": {
        "id": "DbbOl8nRDsNP"
      },
      "source": [
        "**Print out the profit matrix array. Use the costs described above**"
      ]
    },
    {
      "cell_type": "code",
      "metadata": {
        "id": "SVDTxJP8DsNP"
      },
      "source": [
        "# your code here"
      ],
      "execution_count": null,
      "outputs": []
    },
    {
      "cell_type": "markdown",
      "metadata": {
        "id": "FkhBZQzPDsNP"
      },
      "source": [
        "#### 3.3 Average Profit Per Person (16 points)\n",
        "\n",
        "The Average Profit Per Person can be found by multiplying the utility matrix (u) by the confusion matrix elementwise, and dividing by the sum of the elements in the confusion matrix, or the test set size."
      ]
    },
    {
      "cell_type": "markdown",
      "metadata": {
        "id": "UN19IHHLDsNP"
      },
      "source": [
        "**3.3 a) Write a function to calculate the average profit per person by following the instructions below**"
      ]
    },
    {
      "cell_type": "code",
      "metadata": {
        "id": "ftO3LT3vDsNP"
      },
      "source": [
        "def average_profit_pp(y, ypred, u):\n",
        "    \"\"\"\n",
        "    Function\n",
        "    --------\n",
        "    average_profit_pp\n",
        "\n",
        "    Inputs\n",
        "    ------\n",
        "    y: the observed response value (true value)\n",
        "    ypred: the predicted response value\n",
        "    u: Utility or the Profit matrix\n",
        "\n",
        "    Returns\n",
        "    -------\n",
        "    score: average profit per person calculated\n",
        "    \"\"\"\n",
        "    # your code here\n",
        "    "
      ],
      "execution_count": null,
      "outputs": []
    },
    {
      "cell_type": "markdown",
      "metadata": {
        "id": "5utDEZCxDsNP"
      },
      "source": [
        "**3.3 b) Calculate and Print the Avg Profit Per Person on our test data for the 2 baseline classifiers:** \n",
        "- Dont Send to Anyone Baseline Classifier (predicts that no customer will respond)\n",
        "- Send to Everyone Baseline Classifier (predicts that all customers will respond)"
      ]
    },
    {
      "cell_type": "markdown",
      "metadata": {
        "id": "cwllj2AbDsNQ"
      },
      "source": [
        "*your answer here*"
      ]
    },
    {
      "cell_type": "markdown",
      "metadata": {
        "id": "HA01yboiDsNQ"
      },
      "source": [
        "**3.3 c) Taking the average profit per person as the comparison metric, which one of the above 2 classifiers is the one to beat?**"
      ]
    },
    {
      "cell_type": "markdown",
      "metadata": {
        "id": "nx3dXIBDDsNQ"
      },
      "source": [
        "*your answer here*\n",
        "\n"
      ]
    },
    {
      "cell_type": "markdown",
      "metadata": {
        "id": "x7h9F3KaDsNQ"
      },
      "source": [
        "**3.3 d) What is the Avg Profit Per Person for our Logistic-L1 classifier?**"
      ]
    },
    {
      "cell_type": "markdown",
      "metadata": {
        "id": "LCnQ3UuPDsNQ"
      },
      "source": [
        "*your answer here*"
      ]
    },
    {
      "cell_type": "markdown",
      "metadata": {
        "id": "ZPmp2lZ5DsNQ"
      },
      "source": [
        "#### 3.4 Thresholds (6 points)\n",
        "\n",
        "The `sklearn` API function `predict` assumes a threshold probability of having a +ve sample to be 0.5; that is, if a sample has a greater than 0.5 chance of being a 1, assume it is so. In the predictions above, we've done exactly that - if probability is >= 0.5, then `ypred` is 1 else 0.\n",
        "\n",
        "By varying the threshold, the `ypred` and consequently the confusion matrix and the avg profit per person can change. "
      ]
    },
    {
      "cell_type": "markdown",
      "metadata": {
        "id": "9TjJ6vJTDsNQ"
      },
      "source": [
        "**3.4 a) The thresholds are NOT always kept at 0.5 while solving a classification problem. Why do you think this happens? Can you think of any other real world example where we would want to change the threshold from 0.5?**"
      ]
    },
    {
      "cell_type": "markdown",
      "metadata": {
        "id": "_LjJFCD1DsNR"
      },
      "source": [
        "*your answer here*\n",
        "\n"
      ]
    },
    {
      "cell_type": "markdown",
      "metadata": {
        "id": "cuoOpcKoDsNR"
      },
      "source": [
        "**3.4 b) Find out the average profit per person for a given thresholds of 0.05. You can use the helper function provided below to help with this problem**"
      ]
    },
    {
      "cell_type": "code",
      "metadata": {
        "id": "UVK5tdPtDsNR"
      },
      "source": [
        "# helper function to return the predictions for a given threshold 't'\n",
        "\n",
        "def t_repredict(clf,t,xtest):\n",
        "    probs=clf.predict_proba(xtest)\n",
        "    p1 = probs[:,1]\n",
        "    ypred = (p1 > t)*1\n",
        "    return ypred"
      ],
      "execution_count": null,
      "outputs": []
    },
    {
      "cell_type": "code",
      "metadata": {
        "id": "RR_k9fr0DsNR"
      },
      "source": [
        "# your code here"
      ],
      "execution_count": null,
      "outputs": []
    },
    {
      "cell_type": "markdown",
      "metadata": {
        "id": "_SuVHvokDsNR"
      },
      "source": [
        "**3.4 c) Compare the above classifier with our baseline classifiers. What do you observe? Is this classifier worth pursuing?**"
      ]
    },
    {
      "cell_type": "markdown",
      "metadata": {
        "id": "UA6tyUjjDsNR"
      },
      "source": [
        "*your answer here*\n",
        "\n"
      ]
    },
    {
      "cell_type": "markdown",
      "metadata": {
        "id": "x_L0lN4RDsNR"
      },
      "source": [
        "## Part 4: ROC Curves & Profit Curves (20 points)"
      ]
    },
    {
      "cell_type": "markdown",
      "metadata": {
        "id": "FLNYGB-VDsNR"
      },
      "source": [
        "#### 4.1 ROC Curves (3 points)\n",
        "\n",
        "ROC curves are a set of classifiers, many of them, each point corresponding to a different threshold. They are useful to compare classifiers to each other and also to baseline models.\n",
        "(In the standard scenario, where we used the  classifier accuracy, this threshold is implicitly set at 0.5, and we have only one point on the ROC curve.).\n",
        "\n",
        "The practical way to do this is to order the samples by probability of being positive. Then consider the sample with the highest score or highest probability of being positive. At first, only this sample is positive. Then, we take the sample with the next highest score, and call it positive. As we go down the list, we go down a threshold in score or probability. \n",
        "\n",
        "Now, for each such situation: only 1 positive, now 2 positive,....you can imagine a different classifier with a different confusion matrix. It will have its own false positives, three positives, etc. Its actually the same original classifier, but with a different threshold each time.\n",
        "\n",
        "As we keep going down the list, decreasing the threshold, more and more samples become positive, and at first, the true positives rise faster than the false positives. Once past a certain point, false positives increase faster than true positives. Now, if you want a balanced classifier, you look at this turn-around point. But if you want a classifier which penalizes false positives and false negatives differently, the point you want is different.\n",
        "\n",
        "To make a ROC curve you plot the True Positive Rate, \n",
        "\n",
        "$$TPR=\\frac{TP}{OP}$$\n",
        "\n",
        "against the False Positive Rate,\n",
        "\n",
        "$$FPR=\\frac{FP}{ON}$$\n",
        "\n",
        "as you go through this process of going down the list of samples. ROC curves are useful because they calculate one classifier per threshold and show you where you are in TPR/FPR space without making any assumptions about the utility matrix or which threshold is appropriate.\n",
        "\n",
        "A rote reading of the ROC curve (go to the \"northwest\" corner) is a bad idea: you must fold in the curve with any assumptions you are making about the utilities. In our case we have both an asymmetric data set, and asymmetric risk, so the north west corner may not be the right spot. Still, on the whole, a curve with a greater AUC (area under curve), or further away from the line of randomness, will give us a rough idea of what might be a better classifier."
      ]
    },
    {
      "cell_type": "markdown",
      "metadata": {
        "id": "QpFI_yaSDsNS"
      },
      "source": [
        "**Plot the ROC curves for the Logistic-L1 model. Use the helper function below given below to help you out with this**"
      ]
    },
    {
      "cell_type": "code",
      "metadata": {
        "id": "KSywZ0F3DsNS"
      },
      "source": [
        "# helper function to plot the ROC Curve\n",
        "\n",
        "def make_roc(clf, ytest, xtest):\n",
        "    \n",
        "    fig,ax=plt.subplots(figsize=(12,8))\n",
        "    fpr, tpr, thresholds=roc_curve(ytest, clf.predict_proba(xtest)[:,1])\n",
        "    roc_auc = auc(fpr, tpr)\n",
        "    ax.plot(fpr, tpr, '.-', alpha=0.3, label='ROC curve (area = %0.2f)' % (roc_auc))\n",
        "    \n",
        "    label_kwargs = {}\n",
        "    label_kwargs['bbox'] = dict(\n",
        "        boxstyle='round,pad=0.3', alpha=0.2,\n",
        "    )\n",
        "    for k in range(0, fpr.shape[0],200):\n",
        "        #from https://gist.github.com/podshumok/c1d1c9394335d86255b8\n",
        "        threshold = str(np.round(thresholds[k], 2))\n",
        "        ax.annotate(threshold, (fpr[k], tpr[k]), **label_kwargs)\n",
        "        \n",
        "    ax.plot([0, 1], [0, 1], 'k--', label='No Model')\n",
        "    ax.set_xlim([0.0, 1.0])\n",
        "    ax.set_ylim([0.0, 1.05])\n",
        "    ax.set_xlabel('False Positive Rate')\n",
        "    ax.set_ylabel('True Positive Rate')\n",
        "    ax.set_title('ROC')\n",
        "    ax.legend(loc=\"lower right\")\n",
        "    \n",
        "    return ax\n",
        "        \n",
        "    "
      ],
      "execution_count": null,
      "outputs": []
    },
    {
      "cell_type": "code",
      "metadata": {
        "id": "Pxez4NbMDsNS"
      },
      "source": [
        "#your code here"
      ],
      "execution_count": null,
      "outputs": []
    },
    {
      "cell_type": "markdown",
      "metadata": {
        "id": "PBZPndSSDsNS"
      },
      "source": [
        "#### 4.2 Profit Curves (17 points)\n",
        "\n",
        "Just like in a ROC curve, we go down the sorted (by score or probability) list of samples. We one-by-one add an additional sample to our positive samples, noting down the classifier's TPR and FPR and threshold. In addition to what we do for the ROC curve, we now also note down the percentage of our list of samples predicted as positive. Remember we start from the most positive, where the percentage labelled as positive would be minuscule, like 0.1 or so and the threshold like a 0.99 in probability or so. As we decrease the threshold, the percentage predicted to be positive clearly increases until everything is predicted positive at a threshold of 0. What we now do is, at each such additional sample/threshold (given to us by the `roc_curve` function from `sklearn`), we calculate the expected profit per person and plot it against the percentage predicted positive by that threshold to produce a profit curve. Thus, small percentages correspond to samples most likely to be positive: a percentage of 8% means the top 8% of our samples ranked by likelihood of being positive.\n"
      ]
    },
    {
      "cell_type": "markdown",
      "metadata": {
        "id": "kBZHO883DsNS"
      },
      "source": [
        "**4.2 a) Write a function to calculate the percentage of samples classified/predicted as positive given the TPR and FPR of a classifier. Follow the instructions below**"
      ]
    },
    {
      "cell_type": "code",
      "metadata": {
        "id": "IRGv0a6-DsNS"
      },
      "source": [
        "def percentage(tpr, fpr, priorp, priorn):\n",
        "    \"\"\"\n",
        "    Function\n",
        "    --------\n",
        "    percentage\n",
        "\n",
        "    Inputs\n",
        "    ------\n",
        "    tpr: True Positive Rate\n",
        "    fpr: False Positive Rate\n",
        "    priorp: the probability of observed +ives (OP) on our test set\n",
        "    priorn: the probability of observed +ives (ON) on our test set\n",
        "\n",
        "    Returns\n",
        "    -------\n",
        "    perc: percentage of samples classified as positive\n",
        "    \"\"\"\n",
        "    #your code here\n",
        "    \n",
        "    "
      ],
      "execution_count": null,
      "outputs": []
    },
    {
      "cell_type": "markdown",
      "metadata": {
        "id": "D0xnXdTVDsNS"
      },
      "source": [
        "**4.2 b) Write a function to calculate the Expected Profit Per Person given the TPR & FPR from a classifier(this is different than our `average_profit_pp` above as we now want this in terms of TPR and FPR.**"
      ]
    },
    {
      "cell_type": "code",
      "metadata": {
        "id": "804OM9G-DsNS"
      },
      "source": [
        "def av_profit(tpr, fpr, util, priorp, priorn):\n",
        "    \"\"\"\n",
        "    Function\n",
        "    --------\n",
        "    percentage\n",
        "\n",
        "    Inputs\n",
        "    ------\n",
        "    tpr: True Positive Rate\n",
        "    fpr: False Positive Rate\n",
        "    util: Utility Matrix\n",
        "    priorp: the probability of observed +ives (OP) on our test set\n",
        "    priorn: the probability of observed +ives (ON) on our test set\n",
        "\n",
        "    Returns\n",
        "    -------\n",
        "    profit: the average profit per person at this (fpr, tpr) point in this ROC space.\n",
        "    \n",
        "    Notes\n",
        "    -----\n",
        "    see make_profit below for an example of how this is used\n",
        "    \"\"\"\n",
        "    #your code here\n",
        "    \n",
        "    "
      ],
      "execution_count": null,
      "outputs": []
    },
    {
      "cell_type": "markdown",
      "metadata": {
        "id": "EwwsmglaDsNT"
      },
      "source": [
        "**4.2 c) Plot the Profit Curve for our Logistic-L1 model using the helper function below. Also plot the profit lines for the STE(Send to Everyone) and the DSTE (Dont Send to Anyone) baseline classifiers. Make sure the labels are appropriately named and the legend is clearly displayed**"
      ]
    },
    {
      "cell_type": "code",
      "metadata": {
        "id": "zX5VvjsBDsNT"
      },
      "source": [
        "# helper function to plot the profit curve\n",
        "\n",
        "def make_profit(clf, ytest, xtest, util):\n",
        "    \n",
        "    fig,ax=plt.subplots(figsize=(12,8))\n",
        "    fpr, tpr, thresholds=roc_curve(ytest, clf.predict_proba(xtest)[:,1])\n",
        "    priorp=np.mean(ytest)\n",
        "    priorn=1. - priorp\n",
        "    ben=[]\n",
        "    percs=[]\n",
        "    \n",
        "    for i,t in enumerate(thresholds):\n",
        "        perc=percentage(tpr[i], fpr[i], priorp, priorn)\n",
        "        ev = av_profit(tpr[i], fpr[i], util, priorp, priorn)\n",
        "        ben.append(ev)\n",
        "        percs.append(perc*100)\n",
        "    ax.plot(percs, ben, '-', alpha=0.3, markersize=5, label='Profit Curve for model' )\n",
        "   \n",
        "    label_kwargs = {}\n",
        "    label_kwargs['bbox'] = dict(\n",
        "    boxstyle='round,pad=0.3', alpha=0.2,\n",
        "    )\n",
        "    for k in range(0, fpr.shape[0],200):\n",
        "        #from https://gist.github.com/podshumok/c1d1c9394335d86255b8\n",
        "        threshold = str(np.round(thresholds[k], 2))\n",
        "        ax.annotate(threshold, (percs[k], ben[k]), **label_kwargs)\n",
        "                \n",
        "    ax.set_xlabel('% Predicted Positive')\n",
        "    ax.set_ylabel('Avg Profit Per Person')\n",
        "    ax.set_title('Profit Curve')\n",
        "    return ax\n"
      ],
      "execution_count": null,
      "outputs": []
    },
    {
      "cell_type": "code",
      "metadata": {
        "id": "LpYhKyluDsNT"
      },
      "source": [
        "# your code here"
      ],
      "execution_count": null,
      "outputs": []
    },
    {
      "cell_type": "markdown",
      "metadata": {
        "id": "nLZiCggsDsNT"
      },
      "source": [
        "**4.2 d) Why you only start making a profit at a certain percentage?**"
      ]
    },
    {
      "cell_type": "markdown",
      "metadata": {
        "id": "WlBudff-DsNT"
      },
      "source": [
        "*your answer here*\n",
        "\n"
      ]
    },
    {
      "cell_type": "markdown",
      "metadata": {
        "id": "I5iT0DZJDsNT"
      },
      "source": [
        "**4.2 e) What is the region on interest on the graph that you might want to communicate with the company managers in terms of maximizing your profit over the baseline?**"
      ]
    },
    {
      "cell_type": "markdown",
      "metadata": {
        "id": "KvYn4QtfDsNT"
      },
      "source": [
        "*your answer here*\n",
        "\n"
      ]
    }
  ]
}